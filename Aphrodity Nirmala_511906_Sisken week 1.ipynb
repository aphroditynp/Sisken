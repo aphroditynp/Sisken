{
 "cells": [
  {
   "cell_type": "markdown",
   "metadata": {},
   "source": [
    "Nama    : Aphrodity Nirmala Putri\n",
    "\n",
    "NIM     : 23/511906/PA/21852"
   ]
  },
  {
   "cell_type": "code",
   "execution_count": 1,
   "metadata": {},
   "outputs": [],
   "source": [
    "import numpy as np\n",
    "import matplotlib.pyplot as plt\n",
    "import scipy as sci\n",
    "import sympy as sp\n",
    "import control as ct"
   ]
  },
  {
   "cell_type": "markdown",
   "metadata": {},
   "source": [
    "NOMOR 1"
   ]
  },
  {
   "cell_type": "code",
   "execution_count": 2,
   "metadata": {},
   "outputs": [],
   "source": [
    "p_poly = np.array ([1, -3, 2, -1])\n",
    "q_polly = np.array ([1, -1])"
   ]
  },
  {
   "cell_type": "code",
   "execution_count": 3,
   "metadata": {},
   "outputs": [
    {
     "name": "stdout",
     "output_type": "stream",
     "text": [
      "r =  [ 1 -4  5 -3  1]\n"
     ]
    }
   ],
   "source": [
    "r_polly = np.convolve(p_poly, q_polly)\n",
    "print(\"r = \", r_polly)"
   ]
  },
  {
   "cell_type": "code",
   "execution_count": 4,
   "metadata": {},
   "outputs": [
    {
     "name": "stdout",
     "output_type": "stream",
     "text": [
      "p roots =  [2.32471796+0.j         0.33764102+0.56227951j 0.33764102-0.56227951j]\n",
      "q roots =  [1.]\n"
     ]
    }
   ],
   "source": [
    "p_roots = np.roots(p_poly)\n",
    "q_roots = np.roots(q_polly)\n",
    "# r_roots = np.roots(r_polly)\n",
    "\n",
    "print(\"p roots = \", p_roots)\n",
    "print(\"q roots = \", q_roots)\n",
    "# print(\"r roots = \", r_roots)"
   ]
  },
  {
   "cell_type": "markdown",
   "metadata": {},
   "source": [
    "NOMOR 2"
   ]
  },
  {
   "cell_type": "markdown",
   "metadata": {},
   "source": [
    "2. a."
   ]
  },
  {
   "cell_type": "code",
   "execution_count": 5,
   "metadata": {},
   "outputs": [
    {
     "name": "stdout",
     "output_type": "stream",
     "text": [
      "g polly =  (s**2 + 6*s + 2)/(s + 1)**3\n",
      "h polly =  (s**2 + 4*s + 5)/(s**3 + 6*s**2 + 11*s + 6)\n",
      "g partial =  1/(s + 1) + 4/(s + 1)**2 - 3/(s + 1)**3\n",
      "h partial =  1/(s + 3) - 1/(s + 2) + 1/(s + 1)\n"
     ]
    }
   ],
   "source": [
    "s = sp.symbols('s')\n",
    "g_polly = (s**2+ 6*s +2)/((s+1)**3) \n",
    "h_polly = (s**2 + 4*s + 5) / (s**3 + 6*s**2 + 11*s + 6)\n",
    "print (\"g polly = \", g_polly)\n",
    "print (\"h polly = \", h_polly)\n",
    "\n",
    "g = sp.apart(g_polly)\n",
    "h = sp.apart(h_polly)\n",
    "print (\"g partial = \", g)\n",
    "print (\"h partial = \", h)"
   ]
  },
  {
   "cell_type": "markdown",
   "metadata": {},
   "source": [
    "2. b."
   ]
  },
  {
   "cell_type": "code",
   "execution_count": 6,
   "metadata": {},
   "outputs": [
    {
     "name": "stdout",
     "output_type": "stream",
     "text": [
      "g tf =  <TransferFunction>: sys[0]\n",
      "Inputs (1): ['u[0]']\n",
      "Outputs (1): ['y[0]']\n",
      "\n",
      "\n",
      "    s^2 + 6 s + 2\n",
      "---------------------\n",
      "s^3 + 3 s^2 + 3 s + 1\n",
      "\n",
      "h tf =  <TransferFunction>: sys[1]\n",
      "Inputs (1): ['u[0]']\n",
      "Outputs (1): ['y[0]']\n",
      "\n",
      "\n",
      "    s^2 + 4 s + 5\n",
      "----------------------\n",
      "s^3 + 6 s^2 + 11 s + 6\n",
      "\n"
     ]
    }
   ],
   "source": [
    "g_tf = ct.TransferFunction([1, 6, 2], [1, 3, 3, 1])\n",
    "h_tf = ct.TransferFunction([1, 4, 5], [1, 6, 11, 6])\n",
    "\n",
    "print (\"g tf = \", g_tf)\n",
    "print (\"h tf = \", h_tf)"
   ]
  },
  {
   "cell_type": "code",
   "execution_count": 7,
   "metadata": {},
   "outputs": [
    {
     "name": "stdout",
     "output_type": "stream",
     "text": [
      "g zeros =  [-5.64575131+0.j -0.35424869+0.j]\n",
      "g poles =  [-0.99999243+0.00000000e+00j -1.00000378+6.55502679e-06j\n",
      " -1.00000378-6.55502679e-06j]\n",
      "h zeros =  [-2.+1.j -2.-1.j]\n",
      "h poles =  [-3.+0.j -2.+0.j -1.+0.j]\n"
     ]
    }
   ],
   "source": [
    "zg = ct.zeros(g_tf)\n",
    "pg = ct.poles(g_tf)\n",
    "print (\"g zeros = \", zg)\n",
    "print (\"g poles = \", pg)\n",
    "\n",
    "zh = ct.zeros(h_tf)\n",
    "ph = ct.poles(h_tf)\n",
    "print (\"h zeros = \", zh)\n",
    "print (\"h poles = \", ph)"
   ]
  },
  {
   "cell_type": "markdown",
   "metadata": {},
   "source": [
    "2. c."
   ]
  },
  {
   "cell_type": "code",
   "execution_count": 8,
   "metadata": {},
   "outputs": [
    {
     "name": "stdout",
     "output_type": "stream",
     "text": [
      "s1 =  <TransferFunction>: sys[1]\n",
      "Inputs (1): ['u[0]']\n",
      "Outputs (1): ['y[0]']\n",
      "\n",
      "\n",
      "    s^2 + 4 s + 5\n",
      "----------------------\n",
      "s^3 + 6 s^2 + 11 s + 6\n",
      "\n",
      "h kontinyu =  <TransferFunction>: sys[25]\n",
      "Inputs (1): ['u[0]']\n",
      "Outputs (1): ['y[0]']\n",
      "\n",
      "\n",
      " 5 s^27 + 274 s^26 + 7184 s^25 + 1.2e+05 s^24 + 1.433e+06 s^23 + 1.304e+07 s^22 + 9.396e+07 s^21 + 5.502e+08 s^20 + 2.667e+09 s^19 + 1.084e+10 s^18 + 3.733e+10 s^17 + 1.096e+11 s^16 + 2.756e+11 s^15 + 5.955e+11 s^14 + 1.108e+12 s^13 + 1.772e+12 s^12 + 2.437e+12 s^11 + 2.871e+12 s^10 + 2.882e+12 s^9 + 2.449e+12 s^8 + 1.745e+12 s^7 + 1.029e+12 s^6 + 4.923e+11 s^5 + 1.865e+11 s^4 + 5.376e+10 s^3 + 1.108e+10 s^2 + 1.452e+09 s + 9.098e+07\n",
      "------------------------------------------------------------------------------------------------------------------------------------------------------------------------------------------------------------------------------------------------------------------------------------------------------------------------------------------------------------------------------------------------------------------------------------------------------\n",
      "6 s^27 + 335 s^26 + 8948 s^25 + 1.522e+05 s^24 + 1.853e+06 s^23 + 1.717e+07 s^22 + 1.261e+08 s^21 + 7.524e+08 s^20 + 3.717e+09 s^19 + 1.541e+10 s^18 + 5.411e+10 s^17 + 1.621e+11 s^16 + 4.161e+11 s^15 + 9.186e+11 s^14 + 1.746e+12 s^13 + 2.857e+12 s^12 + 4.019e+12 s^11 + 4.846e+12 s^10 + 4.984e+12 s^9 + 4.342e+12 s^8 + 3.173e+12 s^7 + 1.919e+12 s^6 + 9.433e+11 s^5 + 3.671e+11 s^4 + 1.088e+11 s^3 + 2.306e+10 s^2 + 3.111e+09 s + 2.007e+08\n",
      "\n"
     ]
    }
   ],
   "source": [
    "s1 = h_tf\n",
    "print (\"s1 = \", s1)\n",
    "h_con = (s1**2 + 4*s1 + 5)/(s1**3 + 6*s1**2 + 11*s1 + 6)\n",
    "print (\"h kontinyu = \", h_con)"
   ]
  },
  {
   "cell_type": "code",
   "execution_count": 9,
   "metadata": {},
   "outputs": [
    {
     "name": "stdout",
     "output_type": "stream",
     "text": [
      "s2 =  <TransferFunction>: sys[26]\n",
      "Inputs (1): ['u[0]']\n",
      "Outputs (1): ['y[0]']\n",
      "\n",
      "\n",
      "    s^2 + 4 s + 5\n",
      "----------------------\n",
      "s^3 + 6 s^2 + 11 s + 6\n",
      "\n",
      "h zpk =  <TransferFunction>: sys[50]\n",
      "Inputs (1): ['u[0]']\n",
      "Outputs (1): ['y[0]']\n",
      "\n",
      "\n",
      " 5 s^27 + 274 s^26 + 7184 s^25 + 1.2e+05 s^24 + 1.433e+06 s^23 + 1.304e+07 s^22 + 9.396e+07 s^21 + 5.502e+08 s^20 + 2.667e+09 s^19 + 1.084e+10 s^18 + 3.733e+10 s^17 + 1.096e+11 s^16 + 2.756e+11 s^15 + 5.955e+11 s^14 + 1.108e+12 s^13 + 1.772e+12 s^12 + 2.437e+12 s^11 + 2.871e+12 s^10 + 2.882e+12 s^9 + 2.449e+12 s^8 + 1.745e+12 s^7 + 1.029e+12 s^6 + 4.923e+11 s^5 + 1.865e+11 s^4 + 5.376e+10 s^3 + 1.108e+10 s^2 + 1.452e+09 s + 9.098e+07\n",
      "------------------------------------------------------------------------------------------------------------------------------------------------------------------------------------------------------------------------------------------------------------------------------------------------------------------------------------------------------------------------------------------------------------------------------------------------------\n",
      "6 s^27 + 335 s^26 + 8948 s^25 + 1.522e+05 s^24 + 1.853e+06 s^23 + 1.717e+07 s^22 + 1.261e+08 s^21 + 7.524e+08 s^20 + 3.717e+09 s^19 + 1.541e+10 s^18 + 5.411e+10 s^17 + 1.621e+11 s^16 + 4.161e+11 s^15 + 9.186e+11 s^14 + 1.746e+12 s^13 + 2.857e+12 s^12 + 4.019e+12 s^11 + 4.846e+12 s^10 + 4.984e+12 s^9 + 4.342e+12 s^8 + 3.173e+12 s^7 + 1.919e+12 s^6 + 9.433e+11 s^5 + 3.671e+11 s^4 + 1.088e+11 s^3 + 2.306e+10 s^2 + 3.111e+09 s + 2.007e+08\n",
      "\n"
     ]
    }
   ],
   "source": [
    "s2 = ct.zpk(zh, ph, 1)\n",
    "print (\"s2 = \", s2)\n",
    "h_zpk = (s2**2 + 4*s2 + 5)/(s2**3 + 6*s2**2 + 11*s2 + 6)\n",
    "print (\"h zpk = \", h_zpk)"
   ]
  }
 ],
 "metadata": {
  "kernelspec": {
   "display_name": "Python 3",
   "language": "python",
   "name": "python3"
  },
  "language_info": {
   "codemirror_mode": {
    "name": "ipython",
    "version": 3
   },
   "file_extension": ".py",
   "mimetype": "text/x-python",
   "name": "python",
   "nbconvert_exporter": "python",
   "pygments_lexer": "ipython3",
   "version": "3.13.1"
  }
 },
 "nbformat": 4,
 "nbformat_minor": 2
}
